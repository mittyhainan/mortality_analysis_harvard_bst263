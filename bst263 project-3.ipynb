{
 "cells": [
  {
   "cell_type": "code",
   "execution_count": 104,
   "metadata": {},
   "outputs": [],
   "source": [
    "import numpy as np\n",
    "import pandas as pd\n",
    "from sklearn.ensemble import RandomForestClassifier\n",
    "import matplotlib.pyplot as plt\n",
    "from sklearn.model_selection import train_test_split\n",
    "from sklearn.metrics import accuracy_score\n",
    "from sklearn.metrics import confusion_matrix"
   ]
  },
  {
   "cell_type": "code",
   "execution_count": 159,
   "metadata": {},
   "outputs": [
    {
     "data": {
      "text/html": [
       "<div>\n",
       "<style scoped>\n",
       "    .dataframe tbody tr th:only-of-type {\n",
       "        vertical-align: middle;\n",
       "    }\n",
       "\n",
       "    .dataframe tbody tr th {\n",
       "        vertical-align: top;\n",
       "    }\n",
       "\n",
       "    .dataframe thead th {\n",
       "        text-align: right;\n",
       "    }\n",
       "</style>\n",
       "<table border=\"1\" class=\"dataframe\">\n",
       "  <thead>\n",
       "    <tr style=\"text-align: right;\">\n",
       "      <th></th>\n",
       "      <th>seqnum</th>\n",
       "      <th>dead</th>\n",
       "      <th>num_rooms</th>\n",
       "      <th>income</th>\n",
       "      <th>age</th>\n",
       "      <th>race</th>\n",
       "      <th>sex</th>\n",
       "      <th>marital_status</th>\n",
       "      <th>education</th>\n",
       "      <th>weight</th>\n",
       "      <th>...</th>\n",
       "      <th>heaviest</th>\n",
       "      <th>lightest</th>\n",
       "      <th>aspirin</th>\n",
       "      <th>multivitamins</th>\n",
       "      <th>vitaminc</th>\n",
       "      <th>vitamina</th>\n",
       "      <th>vitamine</th>\n",
       "      <th>smokingcat</th>\n",
       "      <th>bmi</th>\n",
       "      <th>bmiclass</th>\n",
       "    </tr>\n",
       "  </thead>\n",
       "  <tbody>\n",
       "    <tr>\n",
       "      <th>0</th>\n",
       "      <td>21886</td>\n",
       "      <td>0</td>\n",
       "      <td>5</td>\n",
       "      <td>19</td>\n",
       "      <td>31</td>\n",
       "      <td>1</td>\n",
       "      <td>2</td>\n",
       "      <td>2</td>\n",
       "      <td>41</td>\n",
       "      <td>50.119999</td>\n",
       "      <td>...</td>\n",
       "      <td>138</td>\n",
       "      <td>100</td>\n",
       "      <td>2</td>\n",
       "      <td>2</td>\n",
       "      <td>2</td>\n",
       "      <td>2</td>\n",
       "      <td>2</td>\n",
       "      <td>1</td>\n",
       "      <td>18.409550</td>\n",
       "      <td>1</td>\n",
       "    </tr>\n",
       "    <tr>\n",
       "      <th>1</th>\n",
       "      <td>24317</td>\n",
       "      <td>0</td>\n",
       "      <td>6</td>\n",
       "      <td>20</td>\n",
       "      <td>31</td>\n",
       "      <td>1</td>\n",
       "      <td>2</td>\n",
       "      <td>2</td>\n",
       "      <td>42</td>\n",
       "      <td>51.259998</td>\n",
       "      <td>...</td>\n",
       "      <td>149</td>\n",
       "      <td>124</td>\n",
       "      <td>1</td>\n",
       "      <td>2</td>\n",
       "      <td>2</td>\n",
       "      <td>2</td>\n",
       "      <td>2</td>\n",
       "      <td>1</td>\n",
       "      <td>18.011440</td>\n",
       "      <td>1</td>\n",
       "    </tr>\n",
       "    <tr>\n",
       "      <th>2</th>\n",
       "      <td>15049</td>\n",
       "      <td>1</td>\n",
       "      <td>8</td>\n",
       "      <td>13</td>\n",
       "      <td>57</td>\n",
       "      <td>1</td>\n",
       "      <td>1</td>\n",
       "      <td>3</td>\n",
       "      <td>28</td>\n",
       "      <td>44.000000</td>\n",
       "      <td>...</td>\n",
       "      <td>140</td>\n",
       "      <td>106</td>\n",
       "      <td>2</td>\n",
       "      <td>2</td>\n",
       "      <td>2</td>\n",
       "      <td>2</td>\n",
       "      <td>2</td>\n",
       "      <td>1</td>\n",
       "      <td>15.967485</td>\n",
       "      <td>1</td>\n",
       "    </tr>\n",
       "    <tr>\n",
       "      <th>3</th>\n",
       "      <td>3933</td>\n",
       "      <td>1</td>\n",
       "      <td>4</td>\n",
       "      <td>13</td>\n",
       "      <td>65</td>\n",
       "      <td>2</td>\n",
       "      <td>1</td>\n",
       "      <td>3</td>\n",
       "      <td>32</td>\n",
       "      <td>53.520000</td>\n",
       "      <td>...</td>\n",
       "      <td>155</td>\n",
       "      <td>109</td>\n",
       "      <td>2</td>\n",
       "      <td>2</td>\n",
       "      <td>2</td>\n",
       "      <td>2</td>\n",
       "      <td>2</td>\n",
       "      <td>3</td>\n",
       "      <td>18.324493</td>\n",
       "      <td>1</td>\n",
       "    </tr>\n",
       "    <tr>\n",
       "      <th>4</th>\n",
       "      <td>21890</td>\n",
       "      <td>1</td>\n",
       "      <td>1</td>\n",
       "      <td>13</td>\n",
       "      <td>64</td>\n",
       "      <td>1</td>\n",
       "      <td>1</td>\n",
       "      <td>2</td>\n",
       "      <td>25</td>\n",
       "      <td>46.720001</td>\n",
       "      <td>...</td>\n",
       "      <td>130</td>\n",
       "      <td>120</td>\n",
       "      <td>2</td>\n",
       "      <td>1</td>\n",
       "      <td>2</td>\n",
       "      <td>2</td>\n",
       "      <td>1</td>\n",
       "      <td>1</td>\n",
       "      <td>15.520434</td>\n",
       "      <td>1</td>\n",
       "    </tr>\n",
       "  </tbody>\n",
       "</table>\n",
       "<p>5 rows × 81 columns</p>\n",
       "</div>"
      ],
      "text/plain": [
       "   seqnum  dead  num_rooms  income  age  race  sex  marital_status  education  \\\n",
       "0   21886     0          5      19   31     1    2               2         41   \n",
       "1   24317     0          6      20   31     1    2               2         42   \n",
       "2   15049     1          8      13   57     1    1               3         28   \n",
       "3    3933     1          4      13   65     2    1               3         32   \n",
       "4   21890     1          1      13   64     1    1               2         25   \n",
       "\n",
       "      weight  ...  heaviest  lightest  aspirin  multivitamins  vitaminc  \\\n",
       "0  50.119999  ...       138       100        2              2         2   \n",
       "1  51.259998  ...       149       124        1              2         2   \n",
       "2  44.000000  ...       140       106        2              2         2   \n",
       "3  53.520000  ...       155       109        2              2         2   \n",
       "4  46.720001  ...       130       120        2              1         2   \n",
       "\n",
       "   vitamina  vitamine  smokingcat        bmi  bmiclass  \n",
       "0         2         2           1  18.409550         1  \n",
       "1         2         2           1  18.011440         1  \n",
       "2         2         2           1  15.967485         1  \n",
       "3         2         2           3  18.324493         1  \n",
       "4         2         1           1  15.520434         1  \n",
       "\n",
       "[5 rows x 81 columns]"
      ]
     },
     "execution_count": 159,
     "metadata": {},
     "output_type": "execute_result"
    }
   ],
   "source": [
    "dataset = pd.read_csv('nhefs_imp_pmm.csv')\n",
    "dataset.head()"
   ]
  },
  {
   "cell_type": "code",
   "execution_count": 3,
   "metadata": {},
   "outputs": [
    {
     "data": {
      "text/plain": [
       "seqnum          int64\n",
       "dead            int64\n",
       "num_rooms       int64\n",
       "income          int64\n",
       "age             int64\n",
       "               ...   \n",
       "vitamina        int64\n",
       "vitamine        int64\n",
       "smokingcat      int64\n",
       "bmi           float64\n",
       "bmiclass        int64\n",
       "Length: 81, dtype: object"
      ]
     },
     "execution_count": 3,
     "metadata": {},
     "output_type": "execute_result"
    }
   ],
   "source": [
    "#check for categorical value\n",
    "dataset.dtypes"
   ]
  },
  {
   "cell_type": "code",
   "execution_count": 4,
   "metadata": {},
   "outputs": [
    {
     "data": {
      "text/plain": [
       "0"
      ]
     },
     "execution_count": 4,
     "metadata": {},
     "output_type": "execute_result"
    }
   ],
   "source": [
    "dataset.isna().any().sum()"
   ]
  },
  {
   "cell_type": "code",
   "execution_count": 5,
   "metadata": {},
   "outputs": [
    {
     "data": {
      "text/plain": [
       "2    6762\n",
       "3    4713\n",
       "4    2408\n",
       "1     524\n",
       "Name: bmiclass, dtype: int64"
      ]
     },
     "execution_count": 5,
     "metadata": {},
     "output_type": "execute_result"
    }
   ],
   "source": [
    "dataset[\"bmiclass\"].value_counts()"
   ]
  },
  {
   "cell_type": "markdown",
   "metadata": {},
   "source": [
    "# Random Forest"
   ]
  },
  {
   "cell_type": "code",
   "execution_count": 204,
   "metadata": {},
   "outputs": [],
   "source": [
    "X = dataset.loc[:,dataset.columns != 'bmiclass']\n",
    "y = dataset[\"bmiclass\"]\n",
    "X_train,X_test,y_train,y_test = train_test_split(X, y, test_size=0.2, random_state=42, shuffle = True)"
   ]
  },
  {
   "cell_type": "code",
   "execution_count": 109,
   "metadata": {},
   "outputs": [
    {
     "data": {
      "text/plain": [
       "RandomForestClassifier(n_estimators=200, random_state=42)"
      ]
     },
     "execution_count": 109,
     "metadata": {},
     "output_type": "execute_result"
    }
   ],
   "source": [
    "rf_200 = RandomForestClassifier(n_estimators=200, random_state=42,max_features='auto')\n",
    "rf_200.fit(X_train,y_train)"
   ]
  },
  {
   "cell_type": "code",
   "execution_count": 110,
   "metadata": {},
   "outputs": [
    {
     "name": "stdout",
     "output_type": "stream",
     "text": [
      "random forest model training accuracy score with 200 decision tree: 1.0000\n",
      "random forest model testing accuracy score with 200 decision tree: 0.9951\n"
     ]
    }
   ],
   "source": [
    "y_train_pred_200 = rf_200.predict(X_train)\n",
    "print('random forest model training accuracy score with 200 decision tree: {0:0.4f}'. format(accuracy_score(y_train, y_train_pred_200)))\n",
    "y_test_pred_200 = rf_200.predict(X_test)\n",
    "print('random forest model testing accuracy score with 200 decision tree: {0:0.4f}'. format(accuracy_score(y_test, y_test_pred_200)))"
   ]
  },
  {
   "cell_type": "code",
   "execution_count": 111,
   "metadata": {},
   "outputs": [
    {
     "data": {
      "text/plain": [
       "array([[ 103,   10,    0,    0],\n",
       "       [   0, 1335,    0,    0],\n",
       "       [   0,    0,  971,    0],\n",
       "       [   0,    0,    4,  459]])"
      ]
     },
     "execution_count": 111,
     "metadata": {},
     "output_type": "execute_result"
    }
   ],
   "source": [
    "confusion_matrix(y_test,y_test_pred_200)"
   ]
  },
  {
   "cell_type": "code",
   "execution_count": 114,
   "metadata": {},
   "outputs": [],
   "source": [
    "importance = rf_200.feature_importances_\n",
    "importance_std = np.std([tree.feature_importances_ for tree in rf_200.estimators_], axis=0)"
   ]
  },
  {
   "cell_type": "code",
   "execution_count": 132,
   "metadata": {},
   "outputs": [
    {
     "data": {
      "text/plain": [
       "<BarContainer object of 80 artists>"
      ]
     },
     "execution_count": 132,
     "metadata": {},
     "output_type": "execute_result"
    },
    {
     "data": {
      "image/png": "[encoded data removed]",
      "text/plain": [
       "<Figure size 864x288 with 1 Axes>"
      ]
     },
     "metadata": {
      "needs_background": "light"
     },
     "output_type": "display_data"
    }
   ],
   "source": [
    "plt.figure(figsize = (12,4))\n",
    "importance = pd.Series(importance)\n",
    "plt.bar(x = range(80),height = importance)"
   ]
  },
  {
   "cell_type": "code",
   "execution_count": 195,
   "metadata": {},
   "outputs": [
    {
     "data": {
      "text/plain": [
       "45"
      ]
     },
     "execution_count": 195,
     "metadata": {},
     "output_type": "execute_result"
    }
   ],
   "source": [
    "importance_index = [i for i in range(80) if importance[i] >= 0.001]\n",
    "len(importance_index)"
   ]
  },
  {
   "cell_type": "markdown",
   "metadata": {},
   "source": [
    "# GAM"
   ]
  },
  {
   "cell_type": "code",
   "execution_count": 11,
   "metadata": {},
   "outputs": [
    {
     "name": "stdout",
     "output_type": "stream",
     "text": [
      "Requirement already satisfied: pygam in /Users/mittyhainan/opt/anaconda3/lib/python3.8/site-packages (0.8.0)\n",
      "Requirement already satisfied: future in /Users/mittyhainan/opt/anaconda3/lib/python3.8/site-packages (from pygam) (0.18.2)\n",
      "Requirement already satisfied: numpy in /Users/mittyhainan/opt/anaconda3/lib/python3.8/site-packages (from pygam) (1.19.2)\n",
      "Requirement already satisfied: progressbar2 in /Users/mittyhainan/opt/anaconda3/lib/python3.8/site-packages (from pygam) (4.0.0)\n",
      "Requirement already satisfied: scipy in /Users/mittyhainan/opt/anaconda3/lib/python3.8/site-packages (from pygam) (1.5.2)\n",
      "Requirement already satisfied: python-utils>=3.0.0 in /Users/mittyhainan/opt/anaconda3/lib/python3.8/site-packages (from progressbar2->pygam) (3.1.0)\n"
     ]
    }
   ],
   "source": [
    "!pip install pygam\n",
    "from pygam import LogisticGAM"
   ]
  },
  {
   "cell_type": "code",
   "execution_count": 196,
   "metadata": {},
   "outputs": [],
   "source": [
    "importance_index.append(80)\n",
    "dataset_dropped = dataset.iloc[:,importance_index]"
   ]
  },
  {
   "cell_type": "code",
   "execution_count": 197,
   "metadata": {},
   "outputs": [
    {
     "data": {
      "text/plain": [
       "(14407, 46)"
      ]
     },
     "execution_count": 197,
     "metadata": {},
     "output_type": "execute_result"
    }
   ],
   "source": [
    "dataset_dropped.shape"
   ]
  },
  {
   "cell_type": "code",
   "execution_count": 199,
   "metadata": {},
   "outputs": [
    {
     "name": "stderr",
     "output_type": "stream",
     "text": [
      "/Users/mittyhainan/opt/anaconda3/lib/python3.8/site-packages/pygam/links.py:149: RuntimeWarning: divide by zero encountered in true_divide\n",
      "  return dist.levels/(mu*(dist.levels - mu))\n",
      "/Users/mittyhainan/opt/anaconda3/lib/python3.8/site-packages/pygam/pygam.py:591: RuntimeWarning: invalid value encountered in multiply\n",
      "  return sp.sparse.diags((self.link.gradient(mu, self.distribution)**2 *\n",
      "/Users/mittyhainan/opt/anaconda3/lib/python3.8/site-packages/pygam/links.py:149: RuntimeWarning: overflow encountered in true_divide\n",
      "  return dist.levels/(mu*(dist.levels - mu))\n",
      "/Users/mittyhainan/opt/anaconda3/lib/python3.8/site-packages/pygam/pygam.py:591: RuntimeWarning: overflow encountered in square\n",
      "  return sp.sparse.diags((self.link.gradient(mu, self.distribution)**2 *\n",
      "/Users/mittyhainan/opt/anaconda3/lib/python3.8/site-packages/pygam/links.py:133: RuntimeWarning: overflow encountered in exp\n",
      "  elp = np.exp(lp)\n",
      "/Users/mittyhainan/opt/anaconda3/lib/python3.8/site-packages/pygam/links.py:134: RuntimeWarning: invalid value encountered in true_divide\n",
      "  return dist.levels * elp / (elp + 1)\n",
      "/Users/mittyhainan/opt/anaconda3/lib/python3.8/site-packages/pygam/utils.py:725: RuntimeWarning: divide by zero encountered in true_divide\n",
      "  out[mask] = y[mask] * np.log(y[mask] / u[mask])\n"
     ]
    },
    {
     "name": "stdout",
     "output_type": "stream",
     "text": [
      "did not converge\n",
      "[1.00000000e+00 1.00000000e+00 1.00000000e+00 ... 1.00000000e+00\n",
      " 3.76107416e-30 1.00000000e+00]\n"
     ]
    },
    {
     "name": "stderr",
     "output_type": "stream",
     "text": [
      "/Users/mittyhainan/opt/anaconda3/lib/python3.8/site-packages/pygam/pygam.py:591: RuntimeWarning: overflow encountered in square\n",
      "  return sp.sparse.diags((self.link.gradient(mu, self.distribution)**2 *\n"
     ]
    },
    {
     "name": "stdout",
     "output_type": "stream",
     "text": [
      "[1.60334941e-14 9.99450524e-01 2.13251901e-12 ... 1.87131612e-24\n",
      " 1.97457233e-02 1.86792772e-24]\n"
     ]
    },
    {
     "name": "stderr",
     "output_type": "stream",
     "text": [
      "/Users/mittyhainan/opt/anaconda3/lib/python3.8/site-packages/pygam/pygam.py:591: RuntimeWarning: overflow encountered in square\n",
      "  return sp.sparse.diags((self.link.gradient(mu, self.distribution)**2 *\n"
     ]
    },
    {
     "name": "stdout",
     "output_type": "stream",
     "text": [
      "[9.45444158e-01 4.13468551e-06 9.97750516e-01 ... 5.37511482e-05\n",
      " 1.25265325e-29 2.37611954e-04]\n"
     ]
    },
    {
     "name": "stderr",
     "output_type": "stream",
     "text": [
      "/Users/mittyhainan/opt/anaconda3/lib/python3.8/site-packages/pygam/links.py:149: RuntimeWarning: divide by zero encountered in true_divide\n",
      "  return dist.levels/(mu*(dist.levels - mu))\n",
      "/Users/mittyhainan/opt/anaconda3/lib/python3.8/site-packages/pygam/pygam.py:591: RuntimeWarning: invalid value encountered in multiply\n",
      "  return sp.sparse.diags((self.link.gradient(mu, self.distribution)**2 *\n",
      "/Users/mittyhainan/opt/anaconda3/lib/python3.8/site-packages/pygam/links.py:133: RuntimeWarning: overflow encountered in exp\n",
      "  elp = np.exp(lp)\n",
      "/Users/mittyhainan/opt/anaconda3/lib/python3.8/site-packages/pygam/links.py:134: RuntimeWarning: invalid value encountered in true_divide\n",
      "  return dist.levels * elp / (elp + 1)\n",
      "/Users/mittyhainan/opt/anaconda3/lib/python3.8/site-packages/pygam/pygam.py:591: RuntimeWarning: overflow encountered in square\n",
      "  return sp.sparse.diags((self.link.gradient(mu, self.distribution)**2 *\n",
      "/Users/mittyhainan/opt/anaconda3/lib/python3.8/site-packages/pygam/links.py:149: RuntimeWarning: overflow encountered in true_divide\n",
      "  return dist.levels/(mu*(dist.levels - mu))\n"
     ]
    },
    {
     "name": "stdout",
     "output_type": "stream",
     "text": [
      "did not converge\n",
      "[1.50352321e-42 1.00000000e+00 6.02528693e-14 ... 9.55461348e-89\n",
      "            nan 4.19903701e-24]\n"
     ]
    },
    {
     "name": "stderr",
     "output_type": "stream",
     "text": [
      "/Users/mittyhainan/opt/anaconda3/lib/python3.8/site-packages/pygam/utils.py:725: RuntimeWarning: divide by zero encountered in true_divide\n",
      "  out[mask] = y[mask] * np.log(y[mask] / u[mask])\n",
      "/Users/mittyhainan/opt/anaconda3/lib/python3.8/site-packages/pygam/utils.py:725: RuntimeWarning: overflow encountered in true_divide\n",
      "  out[mask] = y[mask] * np.log(y[mask] / u[mask])\n"
     ]
    }
   ],
   "source": [
    "#we have to use a one-versus-all structure since GAM is suitable for binary classification but we have 4 classes\n",
    "#four_class_probs = np.empty([])\n",
    "class_1_probabilities = []\n",
    "class_2_probabilities = []\n",
    "class_3_probabilities = []\n",
    "class_4_probabilities = []\n",
    "temp = 10\n",
    "for i in range(4):\n",
    "    cls = i + 1\n",
    "    dataset_class = dataset_dropped.copy()\n",
    "    dataset_class.loc[dataset_class[\"bmiclass\"] == cls,\"bmiclass\"] = temp\n",
    "    dataset_class.loc[dataset[\"bmiclass\"] != cls,\"bmiclass\"] = 0\n",
    "    dataset_class.loc[dataset_class[\"bmiclass\"] == temp,\"bmiclass\"] = 1\n",
    "    X = dataset_class.loc[:,dataset_class.columns != 'bmiclass']\n",
    "    y = dataset_class[\"bmiclass\"]\n",
    "    X_train, X_test, y_train, y_test = train_test_split(X, y, test_size=0.2, random_state=42)\n",
    "    gam = LogisticGAM(lam = 0.6).fit(X_train, y_train)\n",
    "    class_probabilities = gam.predict_proba(X_test)\n",
    "    print(class_probabilities)\n",
    "    if i == 0:\n",
    "        class_1_probabilities = class_probabilities\n",
    "    elif i == 1:\n",
    "        class_2_probabilities = class_probabilities\n",
    "    elif i == 2:\n",
    "        class_3_probabilities = class_probabilities\n",
    "    else:\n",
    "        class_4_probabilities = class_probabilities\n",
    "    #four_class_probs = np.hstack((four_class_probs,class_probabilities)) if four_class_probs.size else class_probabilities"
   ]
  },
  {
   "cell_type": "code",
   "execution_count": 200,
   "metadata": {},
   "outputs": [
    {
     "data": {
      "text/plain": [
       "(2882, 4)"
      ]
     },
     "execution_count": 200,
     "metadata": {},
     "output_type": "execute_result"
    }
   ],
   "source": [
    "four_class_probs = np.vstack((class_1_probabilities,class_2_probabilities,class_3_probabilities,class_4_probabilities))\n",
    "four_class_probs = four_class_probs.T\n",
    "four_class_probs.shape"
   ]
  },
  {
   "cell_type": "code",
   "execution_count": 216,
   "metadata": {},
   "outputs": [],
   "source": [
    "X_train,X_test,y_train,y_test = train_test_split(X, y, test_size=0.2, random_state=42, shuffle = True)"
   ]
  },
  {
   "cell_type": "code",
   "execution_count": 217,
   "metadata": {},
   "outputs": [
    {
     "data": {
      "text/plain": [
       "0.04892435808466343"
      ]
     },
     "execution_count": 217,
     "metadata": {},
     "output_type": "execute_result"
    }
   ],
   "source": [
    "prediction = []\n",
    "for i in range(len(y_test)):\n",
    "    class_probs = four_class_probs[i,:]\n",
    "    pred = np.argmax(class_probs) + 1\n",
    "    prediction.append(pred)\n",
    "accuracy_score(y_test,prediction)"
   ]
  },
  {
   "cell_type": "code",
   "execution_count": null,
   "metadata": {},
   "outputs": [],
   "source": []
  }
 ],
 "metadata": {
  "kernelspec": {
   "display_name": "Python 3",
   "language": "python",
   "name": "python3"
  },
  "language_info": {
   "codemirror_mode": {
    "name": "ipython",
    "version": 3
   },
   "file_extension": ".py",
   "mimetype": "text/x-python",
   "name": "python",
   "nbconvert_exporter": "python",
   "pygments_lexer": "ipython3",
   "version": "3.8.5"
  }
 },
 "nbformat": 4,
 "nbformat_minor": 4
}
